{
  "nbformat": 4,
  "nbformat_minor": 0,
  "metadata": {
    "colab": {
      "provenance": [],
      "authorship_tag": "ABX9TyMNYufArl/e2eUDidkKHDnu",
      "include_colab_link": true
    },
    "kernelspec": {
      "name": "python3",
      "display_name": "Python 3"
    },
    "language_info": {
      "name": "python"
    }
  },
  "cells": [
    {
      "cell_type": "markdown",
      "metadata": {
        "id": "view-in-github",
        "colab_type": "text"
      },
      "source": [
        "<a href=\"https://colab.research.google.com/github/SyedwahidAli1998/Projects/blob/main/typingspeedtest.ipynb\" target=\"_parent\"><img src=\"https://colab.research.google.com/assets/colab-badge.svg\" alt=\"Open In Colab\"/></a>"
      ]
    },
    {
      "cell_type": "code",
      "execution_count": 2,
      "metadata": {
        "colab": {
          "base_uri": "https://localhost:8080/"
        },
        "id": "cz3OHy1wdpM8",
        "outputId": "696bb8d7-11ef-4eff-cd5a-73e859553ada"
      },
      "outputs": [
        {
          "output_type": "stream",
          "name": "stdout",
          "text": [
            "--------typing speed---------\n",
            "\n",
            "\n",
            "\n",
            "The key to developing any skill is consistent practice and patience. Whether you are learning to play a musical instrument, mastering a new language, or improving your typing speed, repetition builds familiarity and confidence. Challenges may arise along the way, but persistence ensures steady progress. Remember, every expert was once a beginner who chose not to give up.\n",
            "enter: nduhugh\n",
            "\n",
            "--- Results ---\n",
            "Speed:  2 w/s\n",
            "Error:  373\n"
          ]
        }
      ],
      "source": [
        "from time import *\n",
        "import random as r\n",
        "\n",
        "def mistake(partest,usertext):\n",
        "    error = 0\n",
        "    for i in range(len(partest)):\n",
        "        try:\n",
        "            if partest[i] != usertext[i]:\n",
        "                error = error + 1\n",
        "        except:\n",
        "            error = error + 1\n",
        "    return error\n",
        "\n",
        "def speed_test(time_s,time_e,user_input):\n",
        "    time_delay = time_e - time_s\n",
        "    time_R=round(time_delay,2)\n",
        "    speed=len(user_input)/time_R\n",
        "    return round(speed)\n",
        "\n",
        "test=['Reading is a window to infinite worlds, perspectives, and ideas. With every book or article, we gain knowledge, expand our imagination, and enhance our empathy. In a digital age where attention is divided, taking the time to read deeply can be a revolutionary act. Its not just about information—its about transformation.',\n",
        "      'Nature offers a powerful escape from the fast pace of modern life. Whether its a walk through the woods, sitting by the ocean, or watching the stars at night, spending time outdoors has proven mental and physical benefits. It reduces stress, boosts creativity, and helps us reconnect with what truly matters. Sometimes, the best way forward is to step back and breathe.',\n",
        "      'Effective communication is more than just the words we choose—its also about how we listen. Active listening involves giving full attention to the speaker, understanding their message, and responding thoughtfully. In both personal and professional relationships, good communication can prevent misunderstandings and build stronger connections. Its a skill worth refining throughout life.',\n",
        "      'The key to developing any skill is consistent practice and patience. Whether you are learning to play a musical instrument, mastering a new language, or improving your typing speed, repetition builds familiarity and confidence. Challenges may arise along the way, but persistence ensures steady progress. Remember, every expert was once a beginner who chose not to give up.',\n",
        "      'Technology has rapidly transformed the way we live, work, and communicate. From smartphones to smart homes, innovations continue to evolve at an unprecedented pace. As digital tools become more integrated into our daily routines, the need to adapt and stay informed has never been greater. Embracing change is no longer optional—its essential for both personal and professional growth.']\n",
        "\n",
        "test1=r.choice(test)\n",
        "print(\"--------typing speed---------\")\n",
        "print(\"\\n\\n\")\n",
        "print(test1)\n",
        "time1=time()\n",
        "test_input=input(\"enter: \")\n",
        "time2=time()\n",
        "\n",
        "print(\"\\n--- Results ---\")\n",
        "print(\"Speed: \",speed_test(time1,time2,test_input),\"w/s\")\n",
        "print(\"Error: \",mistake(test1,test_input))\n",
        "\n"
      ]
    }
  ]
}